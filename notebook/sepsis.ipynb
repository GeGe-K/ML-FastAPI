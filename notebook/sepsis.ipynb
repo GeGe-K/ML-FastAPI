{
 "cells": [
  {
   "cell_type": "markdown",
   "metadata": {},
   "source": []
  },
  {
   "cell_type": "markdown",
   "metadata": {},
   "source": []
  },
  {
   "cell_type": "code",
   "execution_count": 2,
   "metadata": {},
   "outputs": [],
   "source": [
    "## Business Understanding"
   ]
  },
  {
   "cell_type": "markdown",
   "metadata": {},
   "source": [
    "### `Project Description`"
   ]
  },
  {
   "cell_type": "markdown",
   "metadata": {},
   "source": [
    "#### **Key Stakeholders**\n",
    "The stakeholders include the Corporation Favorita's management, sales and marketing teams, store managers and data science team.\n",
    "\n",
    "#### **Analytical Goals**\n",
    "- Handle missing values in the datasets by imputation techniques such as mean, median, or mode.\n",
    "- Address outliers in sales data that may skew the model's predictions by applying robust statistical methods or trimming techniques.\n",
    "- Normalize or scale numerical features to ensure uniformity and improve model performance.\n",
    "- Encode categorical variables using techniques such as one-hot encoding or label encoding.\n",
    "- Build time series regression models such as SARIMA, ARIMA, XGBoost, Linear Regression etc. to capture seasonality and trends in sales data.\n",
    "- Validate models using cross-validation techniques and assess their performance metrics such as RMSE (Root Mean Squared Error) or MAE (Mean Absolute Error).\n",
    "- Create insightful visualizations and dashboards for sales analysis and forecasting.\n",
    "\n",
    "#### **Success Criteria**\n",
    "- Achieve a 0.2 RMSE (Root Mean Squared Error) in sales forecasting models.\n",
    "- Improve inventory management efficiency and reduce stockout instances.\n",
    "\n",
    "#### **Constraints and Assumptions**\n",
    "- Assumption: Historical sales data is representative of future demand patterns.\n",
    "- Constraint: Limited availability of real-time sales data for model training.\n",
    "\n",
    "#### **Constraints and Assumptions**\n",
    "- Assumption: Historical sales data is representative of future demand patterns.\n",
    "- Constraint: Limited availability of real-time sales data for model training.\n",
    "\n",
    "##### **Data Requirements**\n",
    "- Utilize data from train.csv, stores.csv, holidays_events.csv, oil.csv, and transaction.csv for analysis.\n",
    "- Include features such as store_nbr, family, onpromotion, store metadata, oil prices, holidays, and transactional data.\n",
    "\n",
    "#### **Business Impact**\n",
    "- Enhance customer satisfaction through better product availability.\n",
    "- Optimize inventory management, leading to cost savings and improved operational efficiency.\n",
    "\n",
    "### `Hypothesis`\n",
    "\n",
    "*Null Hypothesis (Ho):* \n",
    "*Alternate Hypothesis (Ha):* \n",
    "\n",
    "### `Analytical Business Questions`\n"
   ]
  },
  {
   "cell_type": "markdown",
   "metadata": {},
   "source": [
    "## Data Understanding"
   ]
  },
  {
   "cell_type": "markdown",
   "metadata": {},
   "source": [
    "### `File Descriptions and Data Field Information`"
   ]
  },
  {
   "cell_type": "markdown",
   "metadata": {},
   "source": [
    "### `Importations`"
   ]
  },
  {
   "cell_type": "code",
   "execution_count": 6,
   "metadata": {},
   "outputs": [
    {
     "name": "stdout",
     "output_type": "stream",
     "text": [
      "PACKAGE SUCCESS!! 🎉\n"
     ]
    }
   ],
   "source": [
    "# Import the necessary libraries\n",
    "\n",
    "# Data Manipulation\n",
    "import numpy as np\n",
    "import pandas as pd\n",
    "\n",
    "# Data Visualization\n",
    "import matplotlib.pyplot as plt\n",
    "import plotly.express as px\n",
    "import seaborn as sns\n",
    "\n",
    "# Others\n",
    "import os\n",
    "from itertools import product\n",
    "pd.options.display.float_format = '{:.2f}'.format\n",
    "import warnings\n",
    "warnings.filterwarnings('ignore')\n",
    "\n",
    "print(\"PACKAGE SUCCESS!! 🎉\")"
   ]
  },
  {
   "cell_type": "markdown",
   "metadata": {},
   "source": [
    "### `Data Connection`"
   ]
  },
  {
   "cell_type": "markdown",
   "metadata": {},
   "source": [
    "Loading the dataset"
   ]
  },
  {
   "cell_type": "code",
   "execution_count": 10,
   "metadata": {},
   "outputs": [
    {
     "data": {
      "text/html": [
       "<div>\n",
       "<style scoped>\n",
       "    .dataframe tbody tr th:only-of-type {\n",
       "        vertical-align: middle;\n",
       "    }\n",
       "\n",
       "    .dataframe tbody tr th {\n",
       "        vertical-align: top;\n",
       "    }\n",
       "\n",
       "    .dataframe thead th {\n",
       "        text-align: right;\n",
       "    }\n",
       "</style>\n",
       "<table border=\"1\" class=\"dataframe\">\n",
       "  <thead>\n",
       "    <tr style=\"text-align: right;\">\n",
       "      <th></th>\n",
       "      <th>ID</th>\n",
       "      <th>PRG</th>\n",
       "      <th>PL</th>\n",
       "      <th>PR</th>\n",
       "      <th>SK</th>\n",
       "      <th>TS</th>\n",
       "      <th>M11</th>\n",
       "      <th>BD2</th>\n",
       "      <th>Age</th>\n",
       "      <th>Insurance</th>\n",
       "      <th>Sepssis</th>\n",
       "    </tr>\n",
       "  </thead>\n",
       "  <tbody>\n",
       "    <tr>\n",
       "      <th>0</th>\n",
       "      <td>ICU200010</td>\n",
       "      <td>6</td>\n",
       "      <td>148</td>\n",
       "      <td>72</td>\n",
       "      <td>35</td>\n",
       "      <td>0</td>\n",
       "      <td>33.60</td>\n",
       "      <td>0.63</td>\n",
       "      <td>50</td>\n",
       "      <td>0</td>\n",
       "      <td>Positive</td>\n",
       "    </tr>\n",
       "    <tr>\n",
       "      <th>1</th>\n",
       "      <td>ICU200011</td>\n",
       "      <td>1</td>\n",
       "      <td>85</td>\n",
       "      <td>66</td>\n",
       "      <td>29</td>\n",
       "      <td>0</td>\n",
       "      <td>26.60</td>\n",
       "      <td>0.35</td>\n",
       "      <td>31</td>\n",
       "      <td>0</td>\n",
       "      <td>Negative</td>\n",
       "    </tr>\n",
       "    <tr>\n",
       "      <th>2</th>\n",
       "      <td>ICU200012</td>\n",
       "      <td>8</td>\n",
       "      <td>183</td>\n",
       "      <td>64</td>\n",
       "      <td>0</td>\n",
       "      <td>0</td>\n",
       "      <td>23.30</td>\n",
       "      <td>0.67</td>\n",
       "      <td>32</td>\n",
       "      <td>1</td>\n",
       "      <td>Positive</td>\n",
       "    </tr>\n",
       "    <tr>\n",
       "      <th>3</th>\n",
       "      <td>ICU200013</td>\n",
       "      <td>1</td>\n",
       "      <td>89</td>\n",
       "      <td>66</td>\n",
       "      <td>23</td>\n",
       "      <td>94</td>\n",
       "      <td>28.10</td>\n",
       "      <td>0.17</td>\n",
       "      <td>21</td>\n",
       "      <td>1</td>\n",
       "      <td>Negative</td>\n",
       "    </tr>\n",
       "    <tr>\n",
       "      <th>4</th>\n",
       "      <td>ICU200014</td>\n",
       "      <td>0</td>\n",
       "      <td>137</td>\n",
       "      <td>40</td>\n",
       "      <td>35</td>\n",
       "      <td>168</td>\n",
       "      <td>43.10</td>\n",
       "      <td>2.29</td>\n",
       "      <td>33</td>\n",
       "      <td>1</td>\n",
       "      <td>Positive</td>\n",
       "    </tr>\n",
       "  </tbody>\n",
       "</table>\n",
       "</div>"
      ],
      "text/plain": [
       "          ID  PRG   PL  PR  SK   TS   M11  BD2  Age  Insurance   Sepssis\n",
       "0  ICU200010    6  148  72  35    0 33.60 0.63   50          0  Positive\n",
       "1  ICU200011    1   85  66  29    0 26.60 0.35   31          0  Negative\n",
       "2  ICU200012    8  183  64   0    0 23.30 0.67   32          1  Positive\n",
       "3  ICU200013    1   89  66  23   94 28.10 0.17   21          1  Negative\n",
       "4  ICU200014    0  137  40  35  168 43.10 2.29   33          1  Positive"
      ]
     },
     "execution_count": 10,
     "metadata": {},
     "output_type": "execute_result"
    }
   ],
   "source": [
    "# Loading the Train Data\n",
    "train_dataset = pd.read_csv('../data/Paitients_Files_Train.csv')\n",
    "\n",
    "# View the first 5 entries\n",
    "train_dataset.head()"
   ]
  }
 ],
 "metadata": {
  "kernelspec": {
   "display_name": "venv",
   "language": "python",
   "name": "python3"
  },
  "language_info": {
   "codemirror_mode": {
    "name": "ipython",
    "version": 3
   },
   "file_extension": ".py",
   "mimetype": "text/x-python",
   "name": "python",
   "nbconvert_exporter": "python",
   "pygments_lexer": "ipython3",
   "version": "3.12.0"
  }
 },
 "nbformat": 4,
 "nbformat_minor": 2
}
